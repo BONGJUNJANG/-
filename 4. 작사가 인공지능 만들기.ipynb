{
 "cells": [
  {
   "cell_type": "markdown",
   "id": "fbdc28bd",
   "metadata": {},
   "source": [
    "2.필요한 데이터 불러오기"
   ]
  },
  {
   "cell_type": "code",
   "execution_count": 4,
   "id": "033e0fb6",
   "metadata": {},
   "outputs": [],
   "source": [
    "import glob\n",
    "import os\n",
    "import re \n",
    "import numpy as np\n",
    "import tensorflow as tf\n",
    "from sklearn.model_selection import train_test_split"
   ]
  },
  {
   "cell_type": "code",
   "execution_count": 5,
   "id": "6a40c7b2",
   "metadata": {},
   "outputs": [
    {
     "name": "stdout",
     "output_type": "stream",
     "text": [
      "데이터 크기: 187088\n",
      "Examples:\n",
      " [\"Now I've heard there was a secret chord\", 'That David played, and it pleased the Lord', \"But you don't really care for music, do you?\"]\n"
     ]
    }
   ],
   "source": [
    "txt_file_path = os.getenv('HOME')+'/aiffel/lyricist/data/lyrics/*'\n",
    "\n",
    "txt_list = glob.glob(txt_file_path)\n",
    "\n",
    "raw_corpus = []\n",
    "\n",
    "# 여러개의 txt 파일을 모두 읽어서 raw_corpus 에 담습니다.\n",
    "for txt_file in txt_list:\n",
    "    with open(txt_file, \"r\") as f:\n",
    "        raw = f.read().splitlines()\n",
    "        raw_corpus.extend(raw)\n",
    "\n",
    "print(\"데이터 크기:\", len(raw_corpus))\n",
    "print(\"Examples:\\n\", raw_corpus[:3])"
   ]
  },
  {
   "cell_type": "markdown",
   "id": "1f86867e",
   "metadata": {},
   "source": [
    "3. 데이터 정제하기"
   ]
  },
  {
   "cell_type": "code",
   "execution_count": 6,
   "id": "fde61d13",
   "metadata": {},
   "outputs": [],
   "source": [
    "# 입력된 문장을\n",
    "#     1. 소문자로 바꾸고, 양쪽 공백을 지웁니다\n",
    "#     2. 특수문자 양쪽에 공백을 넣고\n",
    "#     3. 여러개의 공백은 하나의 공백으로 바꿉니다\n",
    "#     4. a-zA-Z?.!,¿가 아닌 모든 문자를 하나의 공백으로 바꿉니다\n",
    "#     5. 다시 양쪽 공백을 지웁니다\n",
    "#     6. 문장 시작에는 <start>, 끝에는 <end>를 추가합니다\n",
    "# 이 순서로 처리해주면 문제가 되는 상황을 방지할 수 있겠네요!\n",
    "def preprocess_sentence(sentence):\n",
    "    sentence = sentence.lower().strip() # 1\n",
    "    sentence = re.sub(r\"([?.!,¿])\", r\" \\1 \", sentence) # 2\n",
    "    sentence = re.sub(r'[\" \"]+', \" \", sentence) # 3\n",
    "    sentence = re.sub(r\"[^a-zA-Z?.!,¿]+\", \" \", sentence) # 4\n",
    "    sentence = sentence.strip() # 5\n",
    "    sentence = '<start> ' + sentence + ' <end>' # 6\n",
    "    return sentence"
   ]
  },
  {
   "cell_type": "code",
   "execution_count": 7,
   "id": "65b11bcc",
   "metadata": {},
   "outputs": [
    {
     "data": {
      "text/plain": [
       "['<start> now i ve heard there was a secret chord <end>',\n",
       " '<start> that david played , and it pleased the lord <end>',\n",
       " '<start> but you don t really care for music , do you ? <end>',\n",
       " '<start> it goes like this <end>',\n",
       " '<start> the fourth , the fifth <end>',\n",
       " '<start> the minor fall , the major lift <end>',\n",
       " '<start> the baffled king composing hallelujah hallelujah <end>',\n",
       " '<start> hallelujah <end>',\n",
       " '<start> hallelujah <end>',\n",
       " '<start> hallelujah your faith was strong but you needed proof <end>']"
      ]
     },
     "execution_count": 7,
     "metadata": {},
     "output_type": "execute_result"
    }
   ],
   "source": [
    "# 여기에 정제된 문장을 모을겁니다\n",
    "corpus = []\n",
    "\n",
    "for sentence in raw_corpus:\n",
    "    # 우리가 원하지 않는 문장은 건너뜁니다\n",
    "    if len(sentence) == 0 or len(sentence.split()) > 15: continue \n",
    "\n",
    "    \n",
    "    # 정제를 하고 담아주세요\n",
    "    preprocessed_sentence = preprocess_sentence(sentence)\n",
    "    corpus.append(preprocessed_sentence)\n",
    "        \n",
    "# 정제된 결과를 10개만 확인해보죠\n",
    "corpus[:10]"
   ]
  },
  {
   "cell_type": "code",
   "execution_count": 8,
   "id": "4fe35f46",
   "metadata": {},
   "outputs": [
    {
     "name": "stdout",
     "output_type": "stream",
     "text": [
      "[[   2   50    5 ...    0    0    0]\n",
      " [   2   17 2714 ...    0    0    0]\n",
      " [   2   34    7 ...    0    0    0]\n",
      " ...\n",
      " [   2  259  193 ...    0    0    0]\n",
      " [   2  133    5 ...    0    0    0]\n",
      " [   2    7   33 ...    0    0    0]] <keras_preprocessing.text.Tokenizer object at 0x7f2cefa81190>\n"
     ]
    }
   ],
   "source": [
    "def tokenize(corpus):\n",
    "    # 12000단어를 기억할 수 있는 tokenizer를 만들겁니다\n",
    "    # 우리는 이미 문장을 정제했으니 filters가 필요없어요\n",
    "    # 12000단어에 포함되지 못한 단어는 '<unk>'로 바꿀거에요\n",
    "    tokenizer = tf.keras.preprocessing.text.Tokenizer(\n",
    "        num_words=12000, \n",
    "        filters=' ',\n",
    "        oov_token=\"<unk>\"\n",
    "    )\n",
    "    # corpus를 이용해 tokenizer 내부의 단어장을 완성합니다\n",
    "    tokenizer.fit_on_texts(corpus)\n",
    "    # 준비한 tokenizer를 이용해 corpus를 Tensor로 변환합니다\n",
    "    tensor = tokenizer.texts_to_sequences(corpus)   \n",
    "    # 입력 데이터의 시퀀스 길이를 일정하게 맞춰줍니다\n",
    "    # 만약 시퀀스가 짧다면 문장 뒤에 패딩을 붙여 길이를 맞춰줍니다.\n",
    "    # 문장 앞에 패딩을 붙여 길이를 맞추고 싶다면 padding='pre'를 사용합니다\n",
    "    tensor = tf.keras.preprocessing.sequence.pad_sequences(tensor, padding='post')  \n",
    "    \n",
    "    print(tensor,tokenizer)\n",
    "    return tensor, tokenizer\n",
    "\n",
    "tensor, tokenizer = tokenize(corpus)"
   ]
  },
  {
   "cell_type": "code",
   "execution_count": 9,
   "id": "7978ad11",
   "metadata": {},
   "outputs": [
    {
     "name": "stdout",
     "output_type": "stream",
     "text": [
      "[   2   50    5   91  307   62   57    9  957 5745    3    0    0    0\n",
      "    0    0    0    0    0    0    0    0    0    0    0    0    0    0\n",
      "    0    0    0    0]\n",
      "[  50    5   91  307   62   57    9  957 5745    3    0    0    0    0\n",
      "    0    0    0    0    0    0    0    0    0    0    0    0    0    0\n",
      "    0    0    0    0]\n"
     ]
    }
   ],
   "source": [
    "# tensor에서 마지막 토큰을 잘라내서 소스 문장을 생성합니다\n",
    "# 마지막 토큰은 <end>가 아니라 <pad>일 가능성이 높습니다.\n",
    "src_input = tensor[:, :-1]  \n",
    "# tensor에서 <start>를 잘라내서 타겟 문장을 생성합니다.\n",
    "tgt_input = tensor[:, 1:]    \n",
    "\n",
    "print(src_input[0])\n",
    "print(tgt_input[0])"
   ]
  },
  {
   "cell_type": "markdown",
   "id": "4d8e65ad",
   "metadata": {},
   "source": [
    "4.평가데이터셋 분리"
   ]
  },
  {
   "cell_type": "code",
   "execution_count": 10,
   "id": "a1175901",
   "metadata": {},
   "outputs": [
    {
     "name": "stdout",
     "output_type": "stream",
     "text": [
      "Source Train: (134872, 32)\n",
      "Target Train: (134872, 32)\n"
     ]
    }
   ],
   "source": [
    "enc_train, enc_val, dec_train, dec_val = train_test_split(src_input, \n",
    "                                                    tgt_input, \n",
    "                                                    test_size=0.2)\n",
    "\n",
    "print(\"Source Train:\", enc_train.shape)\n",
    "print(\"Target Train:\", dec_train.shape)"
   ]
  },
  {
   "cell_type": "code",
   "execution_count": 11,
   "id": "6a890748",
   "metadata": {},
   "outputs": [
    {
     "data": {
      "text/plain": [
       "<BatchDataset shapes: ((256, 32), (256, 32)), types: (tf.int32, tf.int32)>"
      ]
     },
     "execution_count": 11,
     "metadata": {},
     "output_type": "execute_result"
    }
   ],
   "source": [
    "BUFFER_SIZE = len(src_input)\n",
    "BATCH_SIZE = 256\n",
    "steps_per_epoch = len(src_input) // BATCH_SIZE\n",
    "\n",
    " # tokenizer가 구축한 단어사전 내 12000개와, 여기 포함되지 않은 0:<pad>를 포함하여 12001개\n",
    "VOCAB_SIZE = tokenizer.num_words + 1   \n",
    "\n",
    "# 준비한 데이터 소스로부터 데이터셋을 만듭니다\n",
    "dataset = tf.data.Dataset.from_tensor_slices((src_input, tgt_input))\n",
    "dataset = dataset.shuffle(BUFFER_SIZE)\n",
    "dataset = dataset.batch(BATCH_SIZE, drop_remainder=True)\n",
    "dataset"
   ]
  },
  {
   "cell_type": "markdown",
   "id": "928717a6",
   "metadata": {},
   "source": [
    "5. 인공지능 만들기"
   ]
  },
  {
   "cell_type": "code",
   "execution_count": 12,
   "id": "5d7d4be4",
   "metadata": {},
   "outputs": [],
   "source": [
    "class TextGenerator(tf.keras.Model):\n",
    "    def __init__(self, vocab_size, embedding_size, hidden_size):\n",
    "        super().__init__()\n",
    "        \n",
    "        self.embedding = tf.keras.layers.Embedding(vocab_size, embedding_size)\n",
    "        self.rnn_1 = tf.keras.layers.LSTM(hidden_size, return_sequences=True)\n",
    "        self.rnn_2 = tf.keras.layers.LSTM(hidden_size, return_sequences=True)\n",
    "        self.linear = tf.keras.layers.Dense(vocab_size)\n",
    "        \n",
    "    def call(self, x):\n",
    "        out = self.embedding(x)\n",
    "        out = self.rnn_1(out)\n",
    "        out = self.rnn_2(out)\n",
    "        out = self.linear(out)\n",
    "        \n",
    "        return out\n",
    "    \n",
    "embedding_size = 256\n",
    "hidden_size = 2048\n",
    "model = TextGenerator(tokenizer.num_words + 1, embedding_size , hidden_size)"
   ]
  },
  {
   "cell_type": "code",
   "execution_count": 13,
   "id": "bbd1b8fe",
   "metadata": {},
   "outputs": [
    {
     "data": {
      "text/plain": [
       "<tf.Tensor: shape=(256, 32, 12001), dtype=float32, numpy=\n",
       "array([[[ 3.89391236e-04,  1.25113045e-04,  1.42528894e-04, ...,\n",
       "          1.57724018e-04, -7.59240720e-05,  1.69528794e-04],\n",
       "        [ 4.78505419e-04,  3.38916783e-04,  7.29221938e-06, ...,\n",
       "          3.03654466e-04, -2.30145990e-04,  1.57276008e-04],\n",
       "        [ 5.19041670e-04,  4.42182907e-04, -1.90550272e-04, ...,\n",
       "          4.23186721e-04, -2.81792483e-04,  3.67850997e-04],\n",
       "        ...,\n",
       "        [-1.19143841e-03, -4.94631415e-04,  4.01604455e-03, ...,\n",
       "         -2.14027954e-04,  1.93735264e-06, -1.20472803e-03],\n",
       "        [-1.21384289e-03, -4.78158530e-04,  4.03991854e-03, ...,\n",
       "         -2.39800152e-04, -2.03038617e-05, -1.20310031e-03],\n",
       "        [-1.23156270e-03, -4.63053148e-04,  4.06009704e-03, ...,\n",
       "         -2.62981339e-04, -4.00116187e-05, -1.20154396e-03]],\n",
       "\n",
       "       [[ 3.89391236e-04,  1.25113045e-04,  1.42528894e-04, ...,\n",
       "          1.57724018e-04, -7.59240720e-05,  1.69528794e-04],\n",
       "        [ 4.67591191e-04,  3.21562518e-04,  2.41274087e-04, ...,\n",
       "          1.84820528e-04, -2.44143943e-04,  3.05215188e-04],\n",
       "        [ 5.02034789e-04,  4.38821357e-04,  4.69090417e-04, ...,\n",
       "          1.30996152e-04, -3.48065398e-04,  4.13910486e-04],\n",
       "        ...,\n",
       "        [-1.23421114e-03, -5.12140221e-04,  3.89507902e-03, ...,\n",
       "         -1.28548039e-04,  8.12405269e-05, -1.28850725e-03],\n",
       "        [-1.24702905e-03, -4.97813628e-04,  3.93184368e-03, ...,\n",
       "         -1.58874303e-04,  5.20716239e-05, -1.28350768e-03],\n",
       "        [-1.25717430e-03, -4.84048389e-04,  3.96382203e-03, ...,\n",
       "         -1.87565849e-04,  2.59021654e-05, -1.27719110e-03]],\n",
       "\n",
       "       [[ 3.89391236e-04,  1.25113045e-04,  1.42528894e-04, ...,\n",
       "          1.57724018e-04, -7.59240720e-05,  1.69528794e-04],\n",
       "        [ 3.74141266e-04,  2.24955438e-04,  2.98604631e-04, ...,\n",
       "          8.91849195e-05, -2.55729130e-04,  3.12223012e-04],\n",
       "        [ 6.25423563e-04,  5.22286748e-04,  4.37479321e-04, ...,\n",
       "         -8.46712574e-05, -4.49476531e-04,  3.88071931e-04],\n",
       "        ...,\n",
       "        [-1.16926990e-03, -4.64764627e-04,  3.98134720e-03, ...,\n",
       "         -2.16330751e-04, -8.72174041e-06, -1.28378137e-03],\n",
       "        [-1.19050534e-03, -4.55298024e-04,  4.00519138e-03, ...,\n",
       "         -2.39516012e-04, -2.93784033e-05, -1.27593975e-03],\n",
       "        [-1.20795483e-03, -4.45735670e-04,  4.02637338e-03, ...,\n",
       "         -2.60751287e-04, -4.74476728e-05, -1.26812246e-03]],\n",
       "\n",
       "       ...,\n",
       "\n",
       "       [[ 3.89391236e-04,  1.25113045e-04,  1.42528894e-04, ...,\n",
       "          1.57724018e-04, -7.59240720e-05,  1.69528794e-04],\n",
       "        [ 7.12085865e-04,  3.99936789e-06,  4.59338073e-04, ...,\n",
       "         -7.62024283e-05, -8.01479982e-05,  1.03393082e-04],\n",
       "        [ 9.22248757e-04, -5.21956572e-05,  8.65231443e-04, ...,\n",
       "         -3.81783553e-04, -2.33537939e-04,  2.33181359e-04],\n",
       "        ...,\n",
       "        [-1.12207187e-03, -5.92647877e-04,  3.75233428e-03, ...,\n",
       "         -1.58213967e-04,  8.81897649e-05, -1.25704345e-03],\n",
       "        [-1.16006762e-03, -5.76336402e-04,  3.80152091e-03, ...,\n",
       "         -1.78068280e-04,  6.08733826e-05, -1.25973288e-03],\n",
       "        [-1.19043398e-03, -5.59856417e-04,  3.84532823e-03, ...,\n",
       "         -1.98851267e-04,  3.57455974e-05, -1.25988759e-03]],\n",
       "\n",
       "       [[ 3.89391236e-04,  1.25113045e-04,  1.42528894e-04, ...,\n",
       "          1.57724018e-04, -7.59240720e-05,  1.69528794e-04],\n",
       "        [ 6.25909481e-04,  3.00198328e-04,  1.93701781e-04, ...,\n",
       "          2.26917255e-04,  1.53896573e-04,  3.70181049e-04],\n",
       "        [ 9.25952627e-04,  4.59139061e-04,  2.60400004e-04, ...,\n",
       "          2.36461419e-04,  3.89883033e-04,  3.40999773e-04],\n",
       "        ...,\n",
       "        [-1.07373658e-03, -6.71160349e-04,  3.80993914e-03, ...,\n",
       "         -7.04835329e-05,  3.21240223e-05, -1.17768883e-03],\n",
       "        [-1.11603783e-03, -6.40180777e-04,  3.84725840e-03, ...,\n",
       "         -8.73976896e-05,  1.25191218e-05, -1.19301549e-03],\n",
       "        [-1.15130830e-03, -6.11863565e-04,  3.88048380e-03, ...,\n",
       "         -1.08436696e-04, -6.25628991e-06, -1.20413897e-03]],\n",
       "\n",
       "       [[ 3.89391236e-04,  1.25113045e-04,  1.42528894e-04, ...,\n",
       "          1.57724018e-04, -7.59240720e-05,  1.69528794e-04],\n",
       "        [ 7.27469625e-04,  3.16923019e-04,  9.56627555e-05, ...,\n",
       "          6.03349879e-04, -7.97905977e-06,  2.22873699e-04],\n",
       "        [ 1.02733262e-03,  4.43743047e-04, -5.04211566e-05, ...,\n",
       "          9.54906573e-04, -1.52637062e-04,  1.48686391e-04],\n",
       "        ...,\n",
       "        [-9.27625108e-04, -5.99563762e-04,  3.61675490e-03, ...,\n",
       "         -2.47180375e-04,  2.45360134e-04, -1.37027388e-03],\n",
       "        [-9.91137349e-04, -5.89555944e-04,  3.68143572e-03, ...,\n",
       "         -2.28716774e-04,  2.16300046e-04, -1.36246916e-03],\n",
       "        [-1.04471727e-03, -5.78441890e-04,  3.73796700e-03, ...,\n",
       "         -2.19765803e-04,  1.86998572e-04, -1.35230285e-03]]],\n",
       "      dtype=float32)>"
      ]
     },
     "execution_count": 13,
     "metadata": {},
     "output_type": "execute_result"
    }
   ],
   "source": [
    "# 데이터셋에서 데이터 한 배치만 불러오는 방법입니다.\n",
    "for src_sample, tgt_sample in dataset.take(1): break\n",
    "\n",
    "# 한 배치만 불러온 데이터를 모델에 넣어봅니다\n",
    "model(src_sample)"
   ]
  },
  {
   "cell_type": "code",
   "execution_count": 14,
   "id": "b15ed7ec",
   "metadata": {},
   "outputs": [
    {
     "name": "stdout",
     "output_type": "stream",
     "text": [
      "Model: \"text_generator\"\n",
      "_________________________________________________________________\n",
      "Layer (type)                 Output Shape              Param #   \n",
      "=================================================================\n",
      "embedding (Embedding)        multiple                  3072256   \n",
      "_________________________________________________________________\n",
      "lstm (LSTM)                  multiple                  18882560  \n",
      "_________________________________________________________________\n",
      "lstm_1 (LSTM)                multiple                  33562624  \n",
      "_________________________________________________________________\n",
      "dense (Dense)                multiple                  24590049  \n",
      "=================================================================\n",
      "Total params: 80,107,489\n",
      "Trainable params: 80,107,489\n",
      "Non-trainable params: 0\n",
      "_________________________________________________________________\n"
     ]
    }
   ],
   "source": [
    "model.summary()"
   ]
  },
  {
   "cell_type": "code",
   "execution_count": 15,
   "id": "b52a1d1a",
   "metadata": {},
   "outputs": [
    {
     "name": "stdout",
     "output_type": "stream",
     "text": [
      "Epoch 1/10\n",
      "264/264 [==============================] - 635s 2s/step - loss: 1.7234 - val_loss: 1.4811\n",
      "Epoch 2/10\n",
      "264/264 [==============================] - 636s 2s/step - loss: 1.5331 - val_loss: 1.4181\n",
      "Epoch 3/10\n",
      "264/264 [==============================] - 638s 2s/step - loss: 1.3661 - val_loss: 1.3576\n",
      "Epoch 4/10\n",
      "264/264 [==============================] - 638s 2s/step - loss: 1.3023 - val_loss: 1.3134\n",
      "Epoch 5/10\n",
      "264/264 [==============================] - 639s 2s/step - loss: 1.2466 - val_loss: 1.2784\n",
      "Epoch 6/10\n",
      "264/264 [==============================] - 637s 2s/step - loss: 1.1952 - val_loss: 1.2494\n",
      "Epoch 7/10\n",
      "264/264 [==============================] - 638s 2s/step - loss: 1.1461 - val_loss: 1.2237\n",
      "Epoch 8/10\n",
      "264/264 [==============================] - 638s 2s/step - loss: 1.0991 - val_loss: 1.2016\n",
      "Epoch 9/10\n",
      "264/264 [==============================] - 638s 2s/step - loss: 1.0548 - val_loss: 1.1840\n",
      "Epoch 10/10\n",
      "264/264 [==============================] - 637s 2s/step - loss: 1.0131 - val_loss: 1.1673\n"
     ]
    },
    {
     "data": {
      "text/plain": [
       "<keras.callbacks.History at 0x7f2ce2388a60>"
      ]
     },
     "execution_count": 15,
     "metadata": {},
     "output_type": "execute_result"
    }
   ],
   "source": [
    "optimizer = tf.keras.optimizers.Adam()\n",
    "loss = tf.keras.losses.SparseCategoricalCrossentropy(\n",
    "    from_logits=True,\n",
    "    reduction='none'\n",
    ")\n",
    "\n",
    "model.compile(loss=loss, optimizer=optimizer)\n",
    "model.fit(enc_train, dec_train, validation_data=(enc_val, dec_val),epochs=10, batch_size=512)"
   ]
  },
  {
   "cell_type": "code",
   "execution_count": 16,
   "id": "5234d42e",
   "metadata": {},
   "outputs": [],
   "source": [
    "def generate_text(model, tokenizer, init_sentence=\"<start>\", max_len=20):\n",
    "    # 테스트를 위해서 입력받은 init_sentence도 텐서로 변환합니다\n",
    "    test_input = tokenizer.texts_to_sequences([init_sentence])\n",
    "    test_tensor = tf.convert_to_tensor(test_input, dtype=tf.int64)\n",
    "    end_token = tokenizer.word_index[\"<end>\"]\n",
    "\n",
    "    # 단어 하나씩 예측해 문장을 만듭니다\n",
    "    #    1. 입력받은 문장의 텐서를 입력합니다\n",
    "    #    2. 예측된 값 중 가장 높은 확률인 word index를 뽑아냅니다\n",
    "    #    3. 2에서 예측된 word index를 문장 뒤에 붙입니다\n",
    "    #    4. 모델이 <end>를 예측했거나, max_len에 도달했다면 문장 생성을 마칩니다\n",
    "    while True:\n",
    "        # 1\n",
    "        predict = model(test_tensor) \n",
    "        # 2\n",
    "        predict_word = tf.argmax(tf.nn.softmax(predict, axis=-1), axis=-1)[:, -1] \n",
    "        # 3 \n",
    "        test_tensor = tf.concat([test_tensor, tf.expand_dims(predict_word, axis=0)], axis=-1)\n",
    "        # 4\n",
    "        if predict_word.numpy()[0] == end_token: break\n",
    "        if test_tensor.shape[1] >= max_len: break\n",
    "\n",
    "    generated = \"\"\n",
    "    # tokenizer를 이용해 word index를 단어로 하나씩 변환합니다 \n",
    "    for word_index in test_tensor[0].numpy():\n",
    "        generated += tokenizer.index_word[word_index] + \" \"\n",
    "\n",
    "    return generated"
   ]
  },
  {
   "cell_type": "code",
   "execution_count": 17,
   "id": "59324c5b",
   "metadata": {},
   "outputs": [
    {
     "data": {
      "text/plain": [
       "'<start> he s a monster <end> '"
      ]
     },
     "execution_count": 17,
     "metadata": {},
     "output_type": "execute_result"
    }
   ],
   "source": [
    "generate_text(model, tokenizer, init_sentence=\"<start> he\")"
   ]
  },
  {
   "cell_type": "code",
   "execution_count": null,
   "id": "71f2062b",
   "metadata": {},
   "outputs": [],
   "source": []
  }
 ],
 "metadata": {
  "kernelspec": {
   "display_name": "Python 3 (ipykernel)",
   "language": "python",
   "name": "python3"
  },
  "language_info": {
   "codemirror_mode": {
    "name": "ipython",
    "version": 3
   },
   "file_extension": ".py",
   "mimetype": "text/x-python",
   "name": "python",
   "nbconvert_exporter": "python",
   "pygments_lexer": "ipython3",
   "version": "3.9.7"
  }
 },
 "nbformat": 4,
 "nbformat_minor": 5
}
